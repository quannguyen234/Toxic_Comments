{
 "cells": [
  {
   "cell_type": "code",
   "execution_count": 1,
   "metadata": {
    "scrolled": false
   },
   "outputs": [
    {
     "name": "stderr",
     "output_type": "stream",
     "text": [
      "Using TensorFlow backend.\n"
     ]
    }
   ],
   "source": [
    "#basics\n",
    "import pandas as pd \n",
    "import numpy as np\n",
    "\n",
    "#misc\n",
    "import gc\n",
    "import time\n",
    "import warnings\n",
    "\n",
    "#viz\n",
    "import matplotlib.pyplot as plt\n",
    "import seaborn as sns\n",
    "\n",
    "#nlp \n",
    "import re   \n",
    "import nltk \n",
    "from nltk.corpus import stopwords\n",
    "from nltk.tokenize import RegexpTokenizer #Tokenizer for preprocessing\n",
    "from sklearn.model_selection import train_test_split\n",
    "\n",
    "\n",
    "import gensim.models.keyedvectors as word2vec\n",
    "\n",
    "from keras.preprocessing.text import Tokenizer\n",
    "from keras.preprocessing.sequence import pad_sequences\n",
    "from keras.layers import Dense, Input, LSTM, Embedding, Dropout, Activation\n",
    "from keras.layers import Bidirectional, GlobalMaxPool1D,Bidirectional\n",
    "from keras.models import Model\n",
    "from keras import initializers, regularizers, constraints, optimizers, layers\n",
    "from keras.models import model_from_json\n",
    "\n",
    "\n",
    "#settings\n",
    "start_time=time.time()\n",
    "color = sns.color_palette()\n",
    "sns.set_style(\"dark\")\n",
    "warnings.filterwarnings(\"ignore\")\n",
    "\n",
    "\n",
    "%matplotlib inline"
   ]
  },
  {
   "cell_type": "code",
   "execution_count": 2,
   "metadata": {},
   "outputs": [],
   "source": [
    "data = pd.read_csv('clean_data.csv')\n",
    "train_df = pd.read_csv('train_df')\n",
    "val_df = pd.read_csv('val_df')\n",
    "test_df = pd.read_csv('test_df')\n",
    "# train = pd.read_csv('train.csv')"
   ]
  },
  {
   "cell_type": "code",
   "execution_count": 3,
   "metadata": {},
   "outputs": [
    {
     "data": {
      "text/html": [
       "<div>\n",
       "<style scoped>\n",
       "    .dataframe tbody tr th:only-of-type {\n",
       "        vertical-align: middle;\n",
       "    }\n",
       "\n",
       "    .dataframe tbody tr th {\n",
       "        vertical-align: top;\n",
       "    }\n",
       "\n",
       "    .dataframe thead th {\n",
       "        text-align: right;\n",
       "    }\n",
       "</style>\n",
       "<table border=\"1\" class=\"dataframe\">\n",
       "  <thead>\n",
       "    <tr style=\"text-align: right;\">\n",
       "      <th></th>\n",
       "      <th>id</th>\n",
       "      <th>comment_text</th>\n",
       "      <th>toxic</th>\n",
       "      <th>severe_toxic</th>\n",
       "      <th>obscene</th>\n",
       "      <th>threat</th>\n",
       "      <th>insult</th>\n",
       "      <th>identity_hate</th>\n",
       "      <th>toxic_count</th>\n",
       "    </tr>\n",
       "  </thead>\n",
       "  <tbody>\n",
       "    <tr>\n",
       "      <td>0</td>\n",
       "      <td>7e4ad3cda979a734</td>\n",
       "      <td>ged like penis</td>\n",
       "      <td>0</td>\n",
       "      <td>0</td>\n",
       "      <td>1</td>\n",
       "      <td>0</td>\n",
       "      <td>1</td>\n",
       "      <td>0</td>\n",
       "      <td>2</td>\n",
       "    </tr>\n",
       "    <tr>\n",
       "      <td>1</td>\n",
       "      <td>12c82a67010c0fcf</td>\n",
       "      <td>illness nothing time era mental illnesses rea...</td>\n",
       "      <td>0</td>\n",
       "      <td>0</td>\n",
       "      <td>0</td>\n",
       "      <td>0</td>\n",
       "      <td>1</td>\n",
       "      <td>1</td>\n",
       "      <td>2</td>\n",
       "    </tr>\n",
       "    <tr>\n",
       "      <td>2</td>\n",
       "      <td>e8577068eb6afd41</td>\n",
       "      <td>do not understand fair use exist</td>\n",
       "      <td>0</td>\n",
       "      <td>0</td>\n",
       "      <td>0</td>\n",
       "      <td>0</td>\n",
       "      <td>0</td>\n",
       "      <td>0</td>\n",
       "      <td>0</td>\n",
       "    </tr>\n",
       "    <tr>\n",
       "      <td>3</td>\n",
       "      <td>6b1259718d7da711</td>\n",
       "      <td>please vandalize page edit cause world war ii...</td>\n",
       "      <td>0</td>\n",
       "      <td>0</td>\n",
       "      <td>0</td>\n",
       "      <td>0</td>\n",
       "      <td>0</td>\n",
       "      <td>0</td>\n",
       "      <td>0</td>\n",
       "    </tr>\n",
       "    <tr>\n",
       "      <td>4</td>\n",
       "      <td>18608e1b1da6d1a7</td>\n",
       "      <td>bryan holt worst ride operator knott s attenti...</td>\n",
       "      <td>1</td>\n",
       "      <td>0</td>\n",
       "      <td>0</td>\n",
       "      <td>0</td>\n",
       "      <td>0</td>\n",
       "      <td>0</td>\n",
       "      <td>1</td>\n",
       "    </tr>\n",
       "  </tbody>\n",
       "</table>\n",
       "</div>"
      ],
      "text/plain": [
       "                 id                                       comment_text  toxic  \\\n",
       "0  7e4ad3cda979a734                                    ged like penis       0   \n",
       "1  12c82a67010c0fcf   illness nothing time era mental illnesses rea...      0   \n",
       "2  e8577068eb6afd41                  do not understand fair use exist       0   \n",
       "3  6b1259718d7da711   please vandalize page edit cause world war ii...      0   \n",
       "4  18608e1b1da6d1a7  bryan holt worst ride operator knott s attenti...      1   \n",
       "\n",
       "   severe_toxic  obscene  threat  insult  identity_hate  toxic_count  \n",
       "0             0        1       0       1              0            2  \n",
       "1             0        0       0       1              1            2  \n",
       "2             0        0       0       0              0            0  \n",
       "3             0        0       0       0              0            0  \n",
       "4             0        0       0       0              0            1  "
      ]
     },
     "execution_count": 3,
     "metadata": {},
     "output_type": "execute_result"
    }
   ],
   "source": [
    "train_df.head()"
   ]
  },
  {
   "cell_type": "code",
   "execution_count": 4,
   "metadata": {},
   "outputs": [],
   "source": [
    "# Fill null comment with no commment\n",
    "processed_comments_data = data[\"comment_text\"].fillna(\"no commment\").tolist()\n",
    "processed_comments_train = train_df[\"comment_text\"].fillna(\"no commment\").tolist()\n",
    "processed_comments_val = val_df[\"comment_text\"].fillna(\"no commment\").tolist()\n",
    "processed_comments_test = test_df[\"comment_text\"].fillna(\"no commment\").tolist()"
   ]
  },
  {
   "cell_type": "markdown",
   "metadata": {},
   "source": [
    "### Tokenization"
   ]
  },
  {
   "cell_type": "code",
   "execution_count": 5,
   "metadata": {},
   "outputs": [],
   "source": [
    "max_features = 20000\n",
    "# initialize tokenizer\n",
    "tokenizer = Tokenizer(num_words=max_features)\n",
    "# fit tokenizer on comments, create a dictionary of word index for each comment\n",
    "tokenizer.fit_on_texts(processed_comments_train)\n",
    "# transform comments into lists of index/ list of lists of index \n",
    "list_tokenized_train = tokenizer.texts_to_sequences(processed_comments_train)\n",
    "list_tokenized_val = tokenizer.texts_to_sequences(processed_comments_val)\n",
    "list_tokenized_test = tokenizer.texts_to_sequences(processed_comments_test)"
   ]
  },
  {
   "cell_type": "markdown",
   "metadata": {},
   "source": [
    "### Padding"
   ]
  },
  {
   "cell_type": "markdown",
   "metadata": {},
   "source": [
    "Make the shorter sentences as long as the others by filling the shortfall by zeros.\n",
    "Trim the longer ones to the same length(maxlen=170) as the short ones."
   ]
  },
  {
   "cell_type": "code",
   "execution_count": 6,
   "metadata": {},
   "outputs": [
    {
     "data": {
      "image/png": "[encoded data removed]",
      "text/plain": [
       "<Figure size 432x288 with 1 Axes>"
      ]
     },
     "metadata": {
      "needs_background": "light"
     },
     "output_type": "display_data"
    }
   ],
   "source": [
    "totalNumWords = [len(one_comment) for one_comment in list_tokenized_train]\n",
    "plt.hist(totalNumWords,bins = np.arange(0,410,10))#[0,50,100,150,200,250,300,350,400]\n",
    "plt.show()"
   ]
  },
  {
   "cell_type": "markdown",
   "metadata": {},
   "source": [
    "*Most of the sentence length is about 30+. We could set the \"maxlen\" to about 50 but just to be sure of not losing any important information I put maxlen = 170\n"
   ]
  },
  {
   "cell_type": "code",
   "execution_count": 9,
   "metadata": {},
   "outputs": [],
   "source": [
    "maxlen = 170\n",
    "X_train = pad_sequences(list_tokenized_train, maxlen)\n",
    "X_val = pad_sequences(list_tokenized_val, maxlen)\n",
    "X_test = pad_sequences(list_tokenized_test, maxlen)\n",
    "label_classes = [\"toxic\", \"severe_toxic\", \"obscene\", \"threat\", \"insult\", \"identity_hate\"]\n",
    "y_train = train_df[label_classes].values\n",
    "y_val = val_df[label_classes].values\n",
    "y_test = test_df[label_classes].values"
   ]
  },
  {
   "cell_type": "markdown",
   "metadata": {},
   "source": [
    "# Model"
   ]
  },
  {
   "cell_type": "markdown",
   "metadata": {},
   "source": [
    "## Baseline Model - LSTM"
   ]
  },
  {
   "cell_type": "code",
   "execution_count": 10,
   "metadata": {},
   "outputs": [],
   "source": [
    "inp = Input(shape=(maxlen, )) #maxlen=170\n",
    "embed_size = 128\n",
    "x = Embedding(max_features, embed_size)(inp)\n",
    "x = LSTM(60, return_sequences=True,name='lstm_layer')(x)\n",
    "x = GlobalMaxPool1D()(x)\n",
    "x = Dropout(0.1)(x)\n",
    "x = Dense(50, activation=\"relu\")(x)\n",
    "x = Dropout(0.1)(x)\n",
    "x = Dense(6, activation=\"sigmoid\")(x)\n",
    "\n",
    "baseline_model = Model(inputs=inp, outputs=x)\n",
    "baseline_model.compile(loss='binary_crossentropy',\n",
    "                  optimizer='adam',\n",
    "                  metrics=['accuracy'])"
   ]
  },
  {
   "cell_type": "code",
   "execution_count": 11,
   "metadata": {},
   "outputs": [
    {
     "name": "stdout",
     "output_type": "stream",
     "text": [
      "Train on 177351 samples, validate on 21110 samples\n",
      "Epoch 1/4\n",
      "177351/177351 [==============================] - 649s 4ms/step - loss: 0.1126 - accuracy: 0.9566 - val_loss: 0.1753 - val_accuracy: 0.9298\n",
      "Epoch 2/4\n",
      "177351/177351 [==============================] - 610s 3ms/step - loss: 0.0494 - accuracy: 0.9819 - val_loss: 0.2070 - val_accuracy: 0.9332\n",
      "Epoch 3/4\n",
      "177351/177351 [==============================] - 629s 4ms/step - loss: 0.0352 - accuracy: 0.9874 - val_loss: 0.3166 - val_accuracy: 0.9267\n",
      "Epoch 4/4\n",
      "177351/177351 [==============================] - 632s 4ms/step - loss: 0.0265 - accuracy: 0.9905 - val_loss: 0.3806 - val_accuracy: 0.9217\n"
     ]
    }
   ],
   "source": [
    "batch_size = 32\n",
    "epochs = 4\n",
    "baseline = baseline_model.fit(X_train,y_train, batch_size=batch_size, epochs=epochs, validation_data=(X_val, y_val))"
   ]
  },
  {
   "cell_type": "markdown",
   "metadata": {},
   "source": [
    "## Pretrained Embeddings"
   ]
  },
  {
   "cell_type": "code",
   "execution_count": 12,
   "metadata": {},
   "outputs": [],
   "source": [
    "def load_embedding_matrix(typeToLoad):\n",
    "    #load different embedding file depending on which embedding \n",
    "    #matrix we are going to experiment with\n",
    "    if(typeToLoad==\"glove\"):\n",
    "        EMBEDDING_FILE='glove.twitter.27B.25d.txt'\n",
    "        embed_size = 25\n",
    "    elif(typeToLoad==\"word2vec\"):\n",
    "        word2vecDict = word2vec.KeyedVectors.load_word2vec_format(\"GoogleNews-vectors-negative300.bin\", binary=True)\n",
    "        embed_size = 300\n",
    "    elif(typeToLoad==\"fasttext\"):\n",
    "        EMBEDDING_FILE='wiki.simple.vec'\n",
    "        embed_size = 300\n",
    "    \n",
    "    print(f\"LOADING {typeToLoad} | embed_size {embed_size}\")\n",
    "\n",
    "    if(typeToLoad==\"glove\" or typeToLoad==\"fasttext\" ):\n",
    "        embeddings_index = dict()\n",
    "        #Transfer the embedding weights into a dictionary by iterating through every line of the file.\n",
    "        f = open(EMBEDDING_FILE)\n",
    "        for idx, line in enumerate(f):\n",
    "            #split up line into an indexed array\n",
    "            values = line.split()\n",
    "            #first index is word\n",
    "            word = values[0]\n",
    "            if len(values) == (embed_size+1):\n",
    "                #store the rest of the values in the array as a new array\n",
    "                coefs = np.asarray(values[1:], dtype='float32')\n",
    "                embeddings_index[word] = coefs #50 dimensions\n",
    "            elif len(values) > (embed_size+1):\n",
    "                word = \" \".join(values[:2])\n",
    "                coefs = np.asarray(values[2:], dtype='float32')\n",
    "                embeddings_index[word] = coefs #50 dimensions\n",
    "            else:\n",
    "                coefs = np.asarray(values, dtype='float32')\n",
    "                embeddings_index[\"\"] = coefs #50 dimensions\n",
    "                \n",
    "        f.close()\n",
    "        print(f'Loaded {len(embeddings_index)} word vectors from {typeToLoad}')\n",
    "    else:\n",
    "        embeddings_index = dict()\n",
    "        for word in word2vecDict.wv.vocab:\n",
    "            embeddings_index[word] = word2vecDict.word_vec(word)\n",
    "        print(f'Loaded {len(embeddings_index)} word vectors.')\n",
    "\n",
    "    #We get the mean and standard deviation of the embedding weights so that we could maintain the \n",
    "    #same statistics for the rest of our own random generated weights. \n",
    "    all_embs = np.stack(list(embeddings_index.values()))\n",
    "    emb_mean,emb_std = all_embs.mean(), all_embs.std()\n",
    "\n",
    "    nb_words = len(tokenizer.word_index)\n",
    "    #We are going to set the embedding size to the pretrained dimension as we are replicating it.\n",
    "    #the size will be Number of Words in Vocab X Embedding Size\n",
    "    embedding_matrix = np.random.normal(emb_mean, emb_std, (nb_words, embed_size))\n",
    "\n",
    "\n",
    "    #With the newly created embedding matrix, we'll fill it up with the words that we have in both \n",
    "    #our own dictionary and loaded pretrained embedding. \n",
    "    embeddedCount = 0\n",
    "    for word, i in tokenizer.word_index.items():\n",
    "        i-=1\n",
    "        #then we see if this word is in word2vec/glove/fasttext's dictionary, if yes, get the corresponding weights\n",
    "        embedding_vector = embeddings_index.get(word)\n",
    "        #and store inside the embedding matrix that we will train later on.\n",
    "        if embedding_vector is not None: \n",
    "            embedding_matrix[i] = embedding_vector\n",
    "            embeddedCount+=1\n",
    "    print('total embedded:',embeddedCount,'common words')\n",
    "\n",
    "    del(embeddings_index)\n",
    "\n",
    "\n",
    "    #finally, return the embedding matrix\n",
    "    return embedding_matrix"
   ]
  },
  {
   "cell_type": "markdown",
   "metadata": {},
   "source": [
    "## Word2Vec"
   ]
  },
  {
   "cell_type": "code",
   "execution_count": 13,
   "metadata": {
    "scrolled": true
   },
   "outputs": [
    {
     "name": "stdout",
     "output_type": "stream",
     "text": [
      "LOADING word2vec | embed_size 300\n",
      "Loaded 3000000 word vectors.\n",
      "total embedded: 53393 common words\n"
     ]
    }
   ],
   "source": [
    "word2vec_embedding_matrix = load_embedding_matrix('word2vec')"
   ]
  },
  {
   "cell_type": "code",
   "execution_count": 14,
   "metadata": {
    "scrolled": true
   },
   "outputs": [
    {
     "data": {
      "text/plain": [
       "(143337, 300)"
      ]
     },
     "execution_count": 14,
     "metadata": {},
     "output_type": "execute_result"
    }
   ],
   "source": [
    "word2vec_embedding_matrix.shape"
   ]
  },
  {
   "cell_type": "code",
   "execution_count": 15,
   "metadata": {},
   "outputs": [],
   "source": [
    "inp = Input(shape=(maxlen, ))\n",
    "x = Embedding(len(tokenizer.word_index), word2vec_embedding_matrix.shape[1],weights=[word2vec_embedding_matrix],trainable=False)(inp)\n",
    "x = Bidirectional(LSTM(60, return_sequences=True,name='lstm_layer',dropout=0.1,recurrent_dropout=0.1))(x)\n",
    "x = GlobalMaxPool1D()(x)\n",
    "x = Dropout(0.1)(x)\n",
    "x = Dense(50, activation=\"relu\")(x)\n",
    "x = Dropout(0.1)(x)\n",
    "x = Dense(6, activation=\"sigmoid\")(x)\n",
    "\n",
    "word2vec_model = Model(inputs=inp, outputs=x)\n",
    "word2vec_model.compile(loss='binary_crossentropy',\n",
    "                  optimizer='adam',\n",
    "                  metrics=['accuracy'])"
   ]
  },
  {
   "cell_type": "code",
   "execution_count": 16,
   "metadata": {
    "scrolled": true
   },
   "outputs": [
    {
     "name": "stdout",
     "output_type": "stream",
     "text": [
      "Train on 177351 samples, validate on 21110 samples\n",
      "Epoch 1/4\n",
      "177351/177351 [==============================] - 1339s 8ms/step - loss: 0.1561 - accuracy: 0.9413 - val_loss: 0.1987 - val_accuracy: 0.9266\n",
      "Epoch 2/4\n",
      "177351/177351 [==============================] - 1269s 7ms/step - loss: 0.0886 - accuracy: 0.9665 - val_loss: 0.1953 - val_accuracy: 0.9282\n",
      "Epoch 3/4\n",
      "177351/177351 [==============================] - 1159s 7ms/step - loss: 0.0719 - accuracy: 0.9722 - val_loss: 0.2059 - val_accuracy: 0.9290\n",
      "Epoch 4/4\n",
      "177351/177351 [==============================] - 1193s 7ms/step - loss: 0.0641 - accuracy: 0.9752 - val_loss: 0.2191 - val_accuracy: 0.9257\n"
     ]
    }
   ],
   "source": [
    "batch_size = 32\n",
    "epochs = 4\n",
    "word_2_vec = word2vec_model.fit(X_train,y_train, batch_size=batch_size, epochs=epochs, validation_data=(X_val, y_val))"
   ]
  },
  {
   "cell_type": "markdown",
   "metadata": {},
   "source": [
    "## GloVe"
   ]
  },
  {
   "cell_type": "code",
   "execution_count": 17,
   "metadata": {},
   "outputs": [
    {
     "name": "stdout",
     "output_type": "stream",
     "text": [
      "LOADING glove | embed_size 25\n",
      "Loaded 1193515 word vectors from glove\n",
      "total embedded: 69329 common words\n"
     ]
    }
   ],
   "source": [
    "glove_embedding_matrix = load_embedding_matrix('glove')"
   ]
  },
  {
   "cell_type": "code",
   "execution_count": 18,
   "metadata": {},
   "outputs": [],
   "source": [
    "inp = Input(shape=(maxlen, ))\n",
    "x = Embedding(len(tokenizer.word_index), glove_embedding_matrix.shape[1],weights=[glove_embedding_matrix],trainable=False)(inp)\n",
    "x = Bidirectional(LSTM(60, return_sequences=True,name='lstm_layer',dropout=0.1,recurrent_dropout=0.1))(x)\n",
    "x = GlobalMaxPool1D()(x)\n",
    "x = Dropout(0.1)(x)\n",
    "x = Dense(50, activation=\"relu\")(x)\n",
    "x = Dropout(0.1)(x)\n",
    "x = Dense(6, activation=\"sigmoid\")(x)\n",
    "\n",
    "glove_model = Model(inputs=inp, outputs=x)\n",
    "glove_model.compile(loss='binary_crossentropy',\n",
    "                  optimizer='adam',\n",
    "                  metrics=['accuracy'])"
   ]
  },
  {
   "cell_type": "code",
   "execution_count": 20,
   "metadata": {},
   "outputs": [
    {
     "name": "stdout",
     "output_type": "stream",
     "text": [
      "Train on 177351 samples, validate on 21110 samples\n",
      "Epoch 1/4\n",
      "177351/177351 [==============================] - 742s 4ms/step - loss: 0.2579 - accuracy: 0.9020 - val_loss: 0.2398 - val_accuracy: 0.9095\n",
      "Epoch 2/4\n",
      "177351/177351 [==============================] - 755s 4ms/step - loss: 0.1842 - accuracy: 0.9299 - val_loss: 0.2276 - val_accuracy: 0.9102\n",
      "Epoch 3/4\n",
      "177351/177351 [==============================] - 829s 5ms/step - loss: 0.1581 - accuracy: 0.9395 - val_loss: 0.2301 - val_accuracy: 0.9099\n",
      "Epoch 4/4\n",
      "177351/177351 [==============================] - 689s 4ms/step - loss: 0.1457 - accuracy: 0.9447 - val_loss: 0.2288 - val_accuracy: 0.9100\n"
     ]
    }
   ],
   "source": [
    "batch_size = 32\n",
    "epochs = 4\n",
    "glove = glove_model.fit(X_train,y_train, batch_size=batch_size, epochs=epochs, validation_data=(X_val, y_val))"
   ]
  },
  {
   "cell_type": "markdown",
   "metadata": {},
   "source": [
    "## Fasttext"
   ]
  },
  {
   "cell_type": "code",
   "execution_count": 21,
   "metadata": {},
   "outputs": [
    {
     "name": "stdout",
     "output_type": "stream",
     "text": [
      "LOADING fasttext | embed_size 300\n",
      "Loaded 110999 word vectors from fasttext\n",
      "total embedded: 51136 common words\n"
     ]
    }
   ],
   "source": [
    "fasttext_embedding_matrix = load_embedding_matrix('fasttext')"
   ]
  },
  {
   "cell_type": "code",
   "execution_count": 23,
   "metadata": {},
   "outputs": [],
   "source": [
    "inp = Input(shape=(maxlen, ))\n",
    "x = Embedding(len(tokenizer.word_index), fasttext_embedding_matrix.shape[1],weights=[fasttext_embedding_matrix],trainable=False)(inp)\n",
    "x = Bidirectional(LSTM(60, return_sequences=True,name='lstm_layer',dropout=0.1,recurrent_dropout=0.1))(x)\n",
    "x = GlobalMaxPool1D()(x)\n",
    "x = Dropout(0.1)(x)\n",
    "x = Dense(50, activation=\"relu\")(x)\n",
    "x = Dropout(0.1)(x)\n",
    "x = Dense(6, activation=\"sigmoid\")(x)\n",
    "\n",
    "fasttext_model = Model(inputs=inp, outputs=x)\n",
    "fasttext_model.compile(loss='binary_crossentropy',\n",
    "                  optimizer='adam',\n",
    "                  metrics=['accuracy'])"
   ]
  },
  {
   "cell_type": "code",
   "execution_count": 24,
   "metadata": {},
   "outputs": [
    {
     "name": "stdout",
     "output_type": "stream",
     "text": [
      "Train on 177351 samples, validate on 21110 samples\n",
      "Epoch 1/4\n",
      "177351/177351 [==============================] - 992s 6ms/step - loss: 0.1472 - accuracy: 0.9451 - val_loss: 0.1964 - val_accuracy: 0.9232\n",
      "Epoch 2/4\n",
      "177351/177351 [==============================] - 1072s 6ms/step - loss: 0.0834 - accuracy: 0.9687 - val_loss: 0.1942 - val_accuracy: 0.9266\n",
      "Epoch 3/4\n",
      "177351/177351 [==============================] - 1058s 6ms/step - loss: 0.0691 - accuracy: 0.9734 - val_loss: 0.2034 - val_accuracy: 0.9291\n",
      "Epoch 4/4\n",
      "177351/177351 [==============================] - 1159s 7ms/step - loss: 0.0616 - accuracy: 0.9762 - val_loss: 0.2392 - val_accuracy: 0.9285\n"
     ]
    }
   ],
   "source": [
    "batch_size = 32\n",
    "epochs = 4\n",
    "fasttext = fasttext_model.fit(X_train,y_train, batch_size=batch_size, epochs=epochs, validation_data=(X_val, y_val))\n"
   ]
  },
  {
   "cell_type": "markdown",
   "metadata": {},
   "source": [
    "## Result"
   ]
  },
  {
   "cell_type": "code",
   "execution_count": 25,
   "metadata": {},
   "outputs": [],
   "source": [
    "all_losses = {}\n",
    "all_losses['baseline_loss'] = baseline.history['loss']\n",
    "all_losses['baseline_val_loss'] = baseline.history['val_loss']\n",
    "all_losses['word2vec_loss'] = word_2_vec.history['loss']\n",
    "all_losses['word2vec_val_loss'] = word_2_vec.history['val_loss']\n",
    "all_losses['glove_loss'] = glove.history['loss']\n",
    "all_losses['glove_val_loss'] = glove.history['val_loss']\n",
    "all_losses['fasttext_loss'] = fasttext.history['loss']\n",
    "all_losses['fasttext_val_loss'] = fasttext.history['val_loss']"
   ]
  },
  {
   "cell_type": "code",
   "execution_count": 26,
   "metadata": {},
   "outputs": [
    {
     "data": {
      "text/plain": [
       "{'baseline_loss': [0.11255344289634575,\n",
       "  0.04943312466595417,\n",
       "  0.035204552121739764,\n",
       "  0.026512925126829637],\n",
       " 'baseline_val_loss': [0.17528181679296245,\n",
       "  0.20703847484106364,\n",
       "  0.31657604401510286,\n",
       "  0.3806144535795652],\n",
       " 'word2vec_loss': [0.15607353314776168,\n",
       "  0.08858937072525101,\n",
       "  0.07193806465619197,\n",
       "  0.06410980946851605],\n",
       " 'word2vec_val_loss': [0.19868534045555986,\n",
       "  0.1952561329293172,\n",
       "  0.20585237194270897,\n",
       "  0.21906461933392138],\n",
       " 'glove_loss': [0.2579219209702447,\n",
       "  0.18419073998706928,\n",
       "  0.15807421008296318,\n",
       "  0.14565539929225946],\n",
       " 'glove_val_loss': [0.23984497509427344,\n",
       "  0.22759841382079982,\n",
       "  0.2300528782188243,\n",
       "  0.2287604987564837],\n",
       " 'fasttext_loss': [0.14721025294773402,\n",
       "  0.08342651991112364,\n",
       "  0.06912602685558811,\n",
       "  0.06156400344660202],\n",
       " 'fasttext_val_loss': [0.1964283615435429,\n",
       "  0.1942360444014697,\n",
       "  0.2034059928526307,\n",
       "  0.239168855845787]}"
      ]
     },
     "execution_count": 26,
     "metadata": {},
     "output_type": "execute_result"
    }
   ],
   "source": [
    "all_losses"
   ]
  },
  {
   "cell_type": "code",
   "execution_count": 27,
   "metadata": {
    "scrolled": true
   },
   "outputs": [
    {
     "data": {
      "image/png": "[encoded data removed]",
      "text/plain": [
       "<Figure size 432x288 with 1 Axes>"
      ]
     },
     "metadata": {
      "needs_background": "light"
     },
     "output_type": "display_data"
    }
   ],
   "source": [
    "epochRange = np.arange(1,5,1)\n",
    "plt.plot(epochRange,all_losses['word2vec_loss'])\n",
    "plt.plot(epochRange,all_losses['glove_loss'])\n",
    "plt.plot(epochRange,all_losses['fasttext_loss'])\n",
    "plt.plot(epochRange,all_losses['baseline_loss'])\n",
    "plt.title('Training loss for different embeddings')\n",
    "plt.ylabel('loss')\n",
    "plt.xlabel('epoch')\n",
    "plt.legend(['Word2Vec', 'GLOVE','FastText','Baseline'], loc='upper left')\n",
    "plt.show()"
   ]
  },
  {
   "cell_type": "markdown",
   "metadata": {},
   "source": [
    "#### Baseline has the minimum training loss."
   ]
  },
  {
   "cell_type": "code",
   "execution_count": 28,
   "metadata": {
    "scrolled": true
   },
   "outputs": [
    {
     "data": {
      "image/png": "[encoded data removed]",
      "text/plain": [
       "<Figure size 432x288 with 1 Axes>"
      ]
     },
     "metadata": {
      "needs_background": "light"
     },
     "output_type": "display_data"
    }
   ],
   "source": [
    "epochRange = np.arange(1,5,1)\n",
    "plt.plot(epochRange,all_losses['baseline_loss'])\n",
    "plt.plot(epochRange,all_losses['baseline_val_loss'])\n",
    "plt.title('Training Vs Validation loss for baseline model')\n",
    "plt.ylabel('loss')\n",
    "plt.xlabel('epoch')\n",
    "plt.legend(['Training', 'Validation'], loc='upper left')\n",
    "plt.show()"
   ]
  },
  {
   "cell_type": "markdown",
   "metadata": {},
   "source": [
    "#### However, overfitting starts at the second epoch as validation loss has become higher than training loss"
   ]
  },
  {
   "cell_type": "code",
   "execution_count": 32,
   "metadata": {},
   "outputs": [
    {
     "data": {
      "image/png": "[encoded data removed]",
      "text/plain": [
       "<Figure size 1440x1440 with 4 Axes>"
      ]
     },
     "metadata": {
      "needs_background": "light"
     },
     "output_type": "display_data"
    }
   ],
   "source": [
    "f, ((ax1, ax2), (ax3, ax4)) = plt.subplots(2, 2, sharex='col', sharey='row',figsize=(20, 20))\n",
    "\n",
    "plt.title('Training Vs Validation loss for all embeddings')\n",
    "ax1.plot(epochRange,all_losses['baseline_loss'])\n",
    "ax1.plot(epochRange,all_losses['baseline_val_loss'])\n",
    "ax1.set_title('Baseline')\n",
    "\n",
    "\n",
    "ax2.plot(epochRange,all_losses['word2vec_loss'])\n",
    "ax2.plot(epochRange,all_losses['word2vec_val_loss'])\n",
    "ax2.set_title('Word2Vec')\n",
    "\n",
    "\n",
    "ax3.plot(epochRange,all_losses['glove_loss'])\n",
    "ax3.plot(epochRange,all_losses['glove_val_loss'])\n",
    "ax3.set_title('GLOVE')\n",
    "\n",
    "\n",
    "\n",
    "ax4.plot(epochRange,all_losses['fasttext_loss'])\n",
    "ax4.plot(epochRange,all_losses['fasttext_val_loss'])\n",
    "ax4.set_title('FastText')\n",
    "\n",
    "\n",
    "plt.show()"
   ]
  },
  {
   "cell_type": "code",
   "execution_count": 33,
   "metadata": {},
   "outputs": [],
   "source": [
    "from sklearn.metrics import confusion_matrix\n",
    "from sklearn.metrics import multilabel_confusion_matrix"
   ]
  },
  {
   "cell_type": "code",
   "execution_count": 306,
   "metadata": {},
   "outputs": [],
   "source": [
    "# y_pred_class = []\n",
    "# for row in y_pred:\n",
    "#     y_pred_class.append(np.argmax(row))\n",
    "# # y_pred_class = np.array(y_pred_class)\n",
    "# # y_pred_class = np.expand_dims(y_pred_class, axis=1)\n",
    "# # y_pred_class.shape"
   ]
  },
  {
   "cell_type": "code",
   "execution_count": 34,
   "metadata": {},
   "outputs": [],
   "source": [
    "def generate_toxic_prediction(y_prob):\n",
    "    y_pred_col0 = np.where(y_prob[:,0] > 0.4, 1, 0)\n",
    "    y_pred_col1 = np.where(y_prob[:,1] > 0.5, 1, 0)\n",
    "    y_pred_col2 = np.where(y_prob[:,3] > 0.3, 1, 0)\n",
    "    y_pred_col3 = np.where(y_prob[:,3] > 0.6, 1, 0)\n",
    "    y_pred_col4 = np.where(y_prob[:,4] > 0.5, 1, 0)\n",
    "    y_pred_col5 = np.where(y_prob[:,5] > 0.5, 1, 0)\n",
    "\n",
    "    y_pred_col0 = np.expand_dims(y_pred_col0, axis=1)\n",
    "    y_pred_col1 = np.expand_dims(y_pred_col1, axis=1)\n",
    "    y_pred_col2 = np.expand_dims(y_pred_col2, axis=1)\n",
    "    y_pred_col3 = np.expand_dims(y_pred_col3, axis=1)\n",
    "    y_pred_col4 = np.expand_dims(y_pred_col4, axis=1)\n",
    "    y_pred_col5 = np.expand_dims(y_pred_col5, axis=1)\n",
    "\n",
    "    y_pred_colTot = np.concatenate((y_pred_col0, y_pred_col1, y_pred_col2, y_pred_col3, y_pred_col4, y_pred_col5), axis=1)\n",
    "    return y_pred_colTot\n"
   ]
  },
  {
   "cell_type": "code",
   "execution_count": 39,
   "metadata": {},
   "outputs": [],
   "source": [
    "list_classes = ['toxic','severe_toxic','obscene','threat','insult','identity_hate']"
   ]
  },
  {
   "cell_type": "code",
   "execution_count": 40,
   "metadata": {
    "scrolled": false
   },
   "outputs": [],
   "source": [
    "def show_confusion_matrix(cm_pred):\n",
    "    fig = plt.figure(figsize = (12,10))\n",
    "    for i in range(1,7):\n",
    "        plt.subplot(2,3,i)\n",
    "        if i%2==0:\n",
    "            cmap = \"Reds\"\n",
    "        else:\n",
    "            cmap = \"Blues\"\n",
    "        sns.set(font_scale=0.8)\n",
    "        title = f'{list_classes[i-1]}'\n",
    "        plt.title(title, fontsize = 15)\n",
    "        sns.heatmap(cm_pred[i-1], cmap=cmap, square=True, fmt='.0f', cbar=False, annot=True)\n",
    "        plt.ylabel('True label')\n",
    "        plt.xlabel('Predicted label')"
   ]
  },
  {
   "cell_type": "code",
   "execution_count": 41,
   "metadata": {},
   "outputs": [
    {
     "name": "stdout",
     "output_type": "stream",
     "text": [
      "15952/15952 [==============================] - 7s 432us/step\n"
     ]
    }
   ],
   "source": [
    "baseline_y_prob = baseline_model.predict(X_test,batch_size=1024,verbose=1)\n",
    "baseline_y_pred = generate_toxic_prediction(baseline_y_prob)"
   ]
  },
  {
   "cell_type": "code",
   "execution_count": 42,
   "metadata": {
    "scrolled": false
   },
   "outputs": [
    {
     "data": {
      "image/png": "[encoded data removed]",
      "text/plain": [
       "<Figure size 864x720 with 6 Axes>"
      ]
     },
     "metadata": {},
     "output_type": "display_data"
    }
   ],
   "source": [
    "baseline_mcm = multilabel_confusion_matrix(y_test, baseline_y_pred, sample_weight=None, samplewise=False)\n",
    "show_confusion_matrix(baseline_mcm)"
   ]
  },
  {
   "cell_type": "code",
   "execution_count": 43,
   "metadata": {},
   "outputs": [
    {
     "name": "stdout",
     "output_type": "stream",
     "text": [
      "15952/15952 [==============================] - 19s 1ms/step\n"
     ]
    }
   ],
   "source": [
    "word2vec_y_prob = word2vec_model.predict(X_test,batch_size=1024,verbose=1)\n",
    "word2vec_y_pred = generate_toxic_prediction(word2vec_y_prob)"
   ]
  },
  {
   "cell_type": "code",
   "execution_count": 44,
   "metadata": {},
   "outputs": [
    {
     "data": {
      "image/png": "[encoded data removed]",
      "text/plain": [
       "<Figure size 864x720 with 6 Axes>"
      ]
     },
     "metadata": {},
     "output_type": "display_data"
    }
   ],
   "source": [
    "word2vec_mcm = multilabel_confusion_matrix(y_test, word2vec_y_pred, sample_weight=None, samplewise=False)\n",
    "show_confusion_matrix(word2vec_mcm)"
   ]
  },
  {
   "cell_type": "code",
   "execution_count": 45,
   "metadata": {},
   "outputs": [
    {
     "name": "stdout",
     "output_type": "stream",
     "text": [
      "15952/15952 [==============================] - 8s 514us/step\n"
     ]
    }
   ],
   "source": [
    "glove_y_prob = glove_model.predict(X_test,batch_size=1024,verbose=1)\n",
    "glove_y_pred = generate_toxic_prediction(glove_y_prob)"
   ]
  },
  {
   "cell_type": "code",
   "execution_count": 46,
   "metadata": {
    "scrolled": false
   },
   "outputs": [
    {
     "data": {
      "image/png": "[encoded data removed]",
      "text/plain": [
       "<Figure size 864x720 with 6 Axes>"
      ]
     },
     "metadata": {},
     "output_type": "display_data"
    }
   ],
   "source": [
    "glove_mcm = multilabel_confusion_matrix(y_test, glove_y_pred, sample_weight=None, samplewise=False)\n",
    "show_confusion_matrix(glove_mcm)"
   ]
  },
  {
   "cell_type": "code",
   "execution_count": 47,
   "metadata": {},
   "outputs": [
    {
     "name": "stdout",
     "output_type": "stream",
     "text": [
      "15952/15952 [==============================] - 22s 1ms/step\n"
     ]
    }
   ],
   "source": [
    "fasttext_y_prob = fasttext_model.predict(X_test,batch_size=1024,verbose=1)\n",
    "fasttext_y_pred = generate_toxic_prediction(fasttext_y_prob)"
   ]
  },
  {
   "cell_type": "code",
   "execution_count": 48,
   "metadata": {
    "scrolled": false
   },
   "outputs": [
    {
     "data": {
      "image/png": "[encoded data removed]",
      "text/plain": [
       "<Figure size 864x720 with 6 Axes>"
      ]
     },
     "metadata": {},
     "output_type": "display_data"
    }
   ],
   "source": [
    "fasttext_mcm = multilabel_confusion_matrix(y_test, fasttext_y_pred, sample_weight=None, samplewise=False)\n",
    "show_confusion_matrix(fasttext_mcm)"
   ]
  },
  {
   "cell_type": "markdown",
   "metadata": {},
   "source": [
    "##### Save Models"
   ]
  },
  {
   "cell_type": "code",
   "execution_count": 49,
   "metadata": {},
   "outputs": [],
   "source": [
    "import h5py\n",
    "import json"
   ]
  },
  {
   "cell_type": "code",
   "execution_count": 50,
   "metadata": {},
   "outputs": [
    {
     "name": "stdout",
     "output_type": "stream",
     "text": [
      "Saved model to disk\n"
     ]
    }
   ],
   "source": [
    "# save model to JSON\n",
    "baseline_model_json = baseline_model.to_json()\n",
    "with open(\"baseline_model.json\", \"w\") as json_file:\n",
    "    json_file.write(baseline_model_json)\n",
    "# serialize weights to HDF5\n",
    "baseline_model.save_weights(\"baseline_model.h5\")\n",
    "print(\"Saved model to disk\")"
   ]
  },
  {
   "cell_type": "code",
   "execution_count": 51,
   "metadata": {},
   "outputs": [
    {
     "name": "stdout",
     "output_type": "stream",
     "text": [
      "Saved model to disk\n"
     ]
    }
   ],
   "source": [
    "word2vec_model_json = word2vec_model.to_json()\n",
    "with open(\"word2vec_model.json\", \"w\") as json_file:\n",
    "    json_file.write(word2vec_model_json)\n",
    "# serialize weights to HDF5\n",
    "word2vec_model.save_weights(\"word2vec_model.h5\")\n",
    "print(\"Saved model to disk\")"
   ]
  },
  {
   "cell_type": "code",
   "execution_count": 52,
   "metadata": {},
   "outputs": [
    {
     "name": "stdout",
     "output_type": "stream",
     "text": [
      "Saved model to disk\n"
     ]
    }
   ],
   "source": [
    "glove_model_json = glove_model.to_json()\n",
    "with open(\"glove_model.json\", \"w\") as json_file:\n",
    "    json_file.write(glove_model_json)\n",
    "# serialize weights to HDF5\n",
    "glove_model.save_weights(\"glove_model.h5\")\n",
    "print(\"Saved model to disk\")"
   ]
  },
  {
   "cell_type": "code",
   "execution_count": 53,
   "metadata": {},
   "outputs": [
    {
     "name": "stdout",
     "output_type": "stream",
     "text": [
      "Saved model to disk\n"
     ]
    }
   ],
   "source": [
    "fasttext_model_json = fasttext_model.to_json()\n",
    "with open(\"fasttext_model.json\", \"w\") as json_file:\n",
    "    json_file.write(fasttext_model_json)\n",
    "# serialize weights to HDF5\n",
    "fasttext_model.save_weights(\"fasttext_model.h5\")\n",
    "print(\"Saved model to disk\")"
   ]
  },
  {
   "cell_type": "code",
   "execution_count": 54,
   "metadata": {
    "scrolled": true
   },
   "outputs": [],
   "source": [
    "# load json and create model\n",
    "# baseline_json_file = open('baseline_model.json', 'r')\n",
    "# loaded_baseline_model_json = baseline_json_file.read()\n",
    "# baseline_json_file.close()\n",
    "# loaded_baseline_model = model_from_json(loaded_baseline_model_json)\n",
    "# # load weights into new model\n",
    "# loaded_baseline_model.load_weights(\"baseline_model.h5\")\n",
    "# print(\"Loaded model from disk\")"
   ]
  },
  {
   "cell_type": "code",
   "execution_count": 55,
   "metadata": {
    "scrolled": true
   },
   "outputs": [],
   "source": [
    "# glove_json_file = open('glove_model.json', 'r')\n",
    "# loaded_glove_model_json = glove_json_file.read()\n",
    "# glove_json_file.close()\n",
    "# loaded_glove_model = model_from_json(loaded_glove_model_json)\n",
    "# # load weights into new model\n",
    "# loaded_glove_model.load_weights(\"glove_model.h5\")\n",
    "# print(\"Loaded model from disk\")"
   ]
  },
  {
   "cell_type": "code",
   "execution_count": 56,
   "metadata": {},
   "outputs": [],
   "source": [
    "# fasttext_json_file = open('fasttext_model.json', 'r')\n",
    "# loaded_fasttext_model_json = fasttext_json_file.read()\n",
    "# fasttext_json_file.close()\n",
    "# loaded_fasttext_model = model_from_json(loaded_fasttext_model_json)\n",
    "# # load weights into new model\n",
    "# loaded_fasttext_model.load_weights(\"fasttext_model.h5\")\n",
    "# print(\"Loaded model from disk\")"
   ]
  },
  {
   "cell_type": "markdown",
   "metadata": {},
   "source": [
    "### Demo"
   ]
  },
  {
   "cell_type": "code",
   "execution_count": 61,
   "metadata": {},
   "outputs": [],
   "source": [
    "from nltk.tokenize import RegexpTokenizer #Tokenizer for preprocessing\n",
    "preprop_tokenizer = RegexpTokenizer(r'\\w+')"
   ]
  },
  {
   "cell_type": "code",
   "execution_count": 62,
   "metadata": {},
   "outputs": [],
   "source": [
    "def clean_text(text, remove_stopwords=True, remove_special_chars=True, remove_contractions=True ,  clean_wiki_tokens=True):\n",
    "    \"\"\"Clean the text, with the option to remove stopwords and to stem words.\"\"\"\n",
    "\n",
    "    text = text.lower()\n",
    "    text = re.sub(r\"https?:\\/\\/(www\\.)?[-a-zA-Z0-9@:%._\\+~#=]{2,256}\\.[a-z]{2,6}\\b([-a-zA-Z0-9@:%_\\+.~#?&//=]*)\", \"\", text)\n",
    "    text = re.sub(r\"(25[0-5]|2[0-4][0-9]|[01]?[0-9][0-9]?)(\\.(25[0-5]|2[0-4][0-9]|[01]?[0-9][0-9]?)){3}\", \"\", text)\n",
    "\n",
    "    ## Regex to remove wiki special characters\n",
    "    if clean_wiki_tokens:\n",
    "        # Drop the image\n",
    "        text = re.sub(r\"image:[a-zA-Z0-9]*\\.jpg\", \" \", text)\n",
    "        text = re.sub(r\"image:[a-zA-Z0-9]*\\.png\", \" \", text)\n",
    "        text = re.sub(r\"image:[a-zA-Z0-9]*\\.gif\", \" \", text)\n",
    "        text = re.sub(r\"image:[a-zA-Z0-9]*\\.bmp\", \" \", text)\n",
    "\n",
    "        # Drop css\n",
    "        text = re.sub(r\"#([A-Fa-f0-9]{6}|[A-Fa-f0-9]{3})\", \" \",text)\n",
    "        text = re.sub(r\"\\{\\|[^\\}]*\\|\\}\", \" \", text)\n",
    "        \n",
    "        # Clean templates\n",
    "        text = re.sub(r\"\\[?\\[user:.*\\]\", \" \", text)\n",
    "        text = re.sub(r\"\\[?\\[user:.*\\|\", \" \", text)        \n",
    "        text = re.sub(r\"\\[?\\[wikipedia:.*\\]\", \" \", text)\n",
    "        text = re.sub(r\"\\[?\\[wikipedia:.*\\|\", \" \", text)\n",
    "        text = re.sub(r\"\\[?\\[special:.*\\]\", \" \", text)\n",
    "        text = re.sub(r\"\\[?\\[special:.*\\|\", \" \", text)\n",
    "        text = re.sub(r\"\\[?\\[category:.*\\]\", \" \", text)\n",
    "        text = re.sub(r\"\\[?\\[category:.*\\|\", \" \", text)\n",
    "    \n",
    "\n",
    "    # Regex to replace contractions\n",
    "    if remove_contractions:\n",
    "        text = re.sub(r\"what's\", \"what is \", text)\n",
    "        text = re.sub(r\"\\'s\", \" \", text)\n",
    "        text = re.sub(r\"\\'ve\", \" have \", text)\n",
    "        text = re.sub(r\"´\", \"'\", text)\n",
    "        text = re.sub(r\"can't\", \"cannot \", text)\n",
    "        text = re.sub(r\"doesn't\", \"does not \", text)\n",
    "        text = re.sub(r\"dont't\", \"do not \", text)\n",
    "        text = re.sub(r\"n't\", \" not \", text)\n",
    "        text = re.sub(r\"i'm\", \"i am \", text)\n",
    "        text = re.sub(r\"\\'re\", \" are \", text)\n",
    "        text = re.sub(r\"\\'d\", \" would \", text)\n",
    "        text = re.sub(r\"\\'ll\", \" will \", text)\n",
    "        text = re.sub(r\",\", \" \", text)\n",
    "        text = re.sub(r\"\\.\", \" \", text)\n",
    "        text = re.sub(r\"!\", \" ! \", text)\n",
    "        text = re.sub(r\"\\/\", \" \", text)\n",
    "        text = re.sub(r\"\\?\", \" ? \", text)\n",
    "        text = re.sub(r\"\\!\", \" ! \", text)\n",
    "        text = re.sub(r\"\\\"\", \" \", text)\n",
    "        text = re.sub(r\"\\^\", \" ^ \", text)\n",
    "        text = re.sub(r\"\\+\", \" + \", text)\n",
    "        text = re.sub(r\"\\-\", \" - \", text)\n",
    "        text = re.sub(r\"\\=\", \" = \", text)\n",
    "        text = re.sub(r\"'\", \" \", text)\n",
    "        text = re.sub(r\"(\\d+)(k)\", r\"\\g<1>000\", text)\n",
    "        text = re.sub(r\":\", \" : \", text)\n",
    "        text = re.sub(r\" e g \", \" eg \", text)\n",
    "        text = re.sub(r\" b g \", \" bg \", text)\n",
    "        text = re.sub(r\" u s \", \" american \", text)\n",
    "        text = re.sub(r\"\\0s\", \"0\", text)\n",
    "        text = re.sub(r\" 9 11 \", \"911\", text)\n",
    "        text = re.sub(r\"e - mail\", \"email\", text)\n",
    "        text = re.sub(r\"j k\", \"jk\", text)\n",
    "        text = re.sub(r\"\\s{2,}\", \" \", text)\n",
    "        # regex to replace all numerics\n",
    "        replace_numbers = re.compile(r'\\d+',re.IGNORECASE)\n",
    "        text = replace_numbers.sub(\" \", text)\n",
    "    \n",
    "    # Regex to remove all Non-Alpha Numeric and space\n",
    "    if remove_special_chars:\n",
    "        special_character_removal = re.compile(r'[^?!.,:a-z\\d ]',re.IGNORECASE)\n",
    "        text = special_character_removal.sub(' ',text)\n",
    "\n",
    "    ## Tokenize text and remove stop words\n",
    "    if remove_stopwords:\n",
    "        stop_words = set(stopwords.words(\"english\"))\n",
    "        token_list = preprop_tokenizer.tokenize(text)\n",
    "        filtered_token_list = [word for word in token_list if word not in stop_words]\n",
    "        text = \" \".join(filtered_token_list).strip()\n",
    "\n",
    "    return text"
   ]
  },
  {
   "cell_type": "code",
   "execution_count": 75,
   "metadata": {},
   "outputs": [],
   "source": [
    "def demo(comment,model):\n",
    "    '''function take in a comment and print out the level of toxic of that comment ''' \n",
    "    \n",
    "    print(f'{comment} \\n')\n",
    "    \n",
    "    #clean_text\n",
    "    clean_comment = [clean_text(comment)]\n",
    "    print(clean_comment)\n",
    "    #transform: tokenize and padding\n",
    "    tokenizer.fit_on_texts(clean_comment)\n",
    "    tokenized_comment = tokenizer.texts_to_sequences(clean_comment)\n",
    "    pad = pad_sequences(tokenized_comment, max_len)\n",
    "    #predict\n",
    "    prob = model.predict(pad,batch_size=24,verbose=1)\n",
    "    pred = generate_toxic_prediction(prob)\n",
    "    \n",
    "    #print out result\n",
    "    if pred[0][0] == 1:\n",
    "        print(f'Comment is Toxic')\n",
    "    if pred[0][1] == 1:\n",
    "        print('Comment is Severe Toxic')\n",
    "    if pred[0][2] == 1:\n",
    "        print('Comment is Obscene')\n",
    "    if pred[0][3] == 1:\n",
    "        print('Comment is Threat')\n",
    "    if pred[0][4] == 1:\n",
    "        print('Comment is Insult')\n",
    "    if pred[0][5] == 1:\n",
    "        print('Comment is Indentity Hate')\n",
    "    \n",
    "    #action\n",
    "    if pred.sum() == 2:\n",
    "        print(f'Toxic level: {pred.sum()} -> Give Warning.')\n",
    "    elif pred.sum() >= 3 and pred.sum() < 5:\n",
    "        print(f'Toxic level: {pred.sum()} -> Give Warning and Human Check.')\n",
    "    elif pred.sum() >= 5:\n",
    "        print(f'Toxic level: {pred.sum()} -> Block Account!')\n",
    "    else:\n",
    "        print(f'Toxic level: {pred.sum()}')\n",
    "        \n"
   ]
  },
  {
   "cell_type": "code",
   "execution_count": 76,
   "metadata": {},
   "outputs": [
    {
     "data": {
      "text/plain": [
       "'\\n\\n I was so glad to read... \\n\\nthis.\\n\\nAt least there are places in the world that ignore pathetic claims and whining from silly retarded bints with nothing better to do. A bit of rape never hurt anyone anyway. Who the hell do you feminists think you are anyway? Know your place!  —Preceding unsigned comment added by 79.75.179.141   \\n\\n Rape \\n\\niz well funny, and is put dem fucking stupid womenz in their places innit. iz wot they is deserve \\n\\n Jeffpw and Isaac \\n\\nARE BOTH DEATH\\n\\nLOL!  —Preceding unsigned comment added by 79.75.179.141   '"
      ]
     },
     "execution_count": 76,
     "metadata": {},
     "output_type": "execute_result"
    }
   ],
   "source": [
    "comment1 = \"\\n\\n I was so glad to read... \\n\\nthis.\\n\\nAt least there are places in the world that ignore pathetic claims and whining from silly retarded bints with nothing better to do. A bit of rape never hurt anyone anyway. Who the hell do you feminists think you are anyway? Know your place!  —Preceding unsigned comment added by 79.75.179.141   \\n\\n Rape \\n\\niz well funny, and is put dem fucking stupid womenz in their places innit. iz wot they is deserve \\n\\n Jeffpw and Isaac \\n\\nARE BOTH DEATH\\n\\nLOL!  —Preceding unsigned comment added by 79.75.179.141   \"\n",
    "comment1"
   ]
  },
  {
   "cell_type": "code",
   "execution_count": 78,
   "metadata": {
    "scrolled": false
   },
   "outputs": [
    {
     "name": "stdout",
     "output_type": "stream",
     "text": [
      "\n",
      "\n",
      " I was so glad to read... \n",
      "\n",
      "this.\n",
      "\n",
      "At least there are places in the world that ignore pathetic claims and whining from silly retarded bints with nothing better to do. A bit of rape never hurt anyone anyway. Who the hell do you feminists think you are anyway? Know your place!  —Preceding unsigned comment added by 79.75.179.141   \n",
      "\n",
      " Rape \n",
      "\n",
      "iz well funny, and is put dem fucking stupid womenz in their places innit. iz wot they is deserve \n",
      "\n",
      " Jeffpw and Isaac \n",
      "\n",
      "ARE BOTH DEATH\n",
      "\n",
      "LOL!  —Preceding unsigned comment added by 79.75.179.141    \n",
      "\n",
      "['glad read least places world ignore pathetic claims whining silly retarded bints nothing better bit rape never hurt anyone anyway hell feminists think anyway know place preceding unsigned comment added rape iz well funny put dem fucking stupid womenz places innit iz wot deserve jeffpw isaac death lol preceding unsigned comment added']\n",
      "1/1 [==============================] - 0s 14ms/step\n",
      "Comment is Toxic\n",
      "Toxic level: 1\n"
     ]
    }
   ],
   "source": [
    "demo(comment1,baseline_model)"
   ]
  },
  {
   "cell_type": "code",
   "execution_count": 80,
   "metadata": {},
   "outputs": [
    {
     "name": "stdout",
     "output_type": "stream",
     "text": [
      "\n",
      "\n",
      " I was so glad to read... \n",
      "\n",
      "this.\n",
      "\n",
      "At least there are places in the world that ignore pathetic claims and whining from silly retarded bints with nothing better to do. A bit of rape never hurt anyone anyway. Who the hell do you feminists think you are anyway? Know your place!  —Preceding unsigned comment added by 79.75.179.141   \n",
      "\n",
      " Rape \n",
      "\n",
      "iz well funny, and is put dem fucking stupid womenz in their places innit. iz wot they is deserve \n",
      "\n",
      " Jeffpw and Isaac \n",
      "\n",
      "ARE BOTH DEATH\n",
      "\n",
      "LOL!  —Preceding unsigned comment added by 79.75.179.141    \n",
      "\n",
      "['glad read least places world ignore pathetic claims whining silly retarded bints nothing better bit rape never hurt anyone anyway hell feminists think anyway know place preceding unsigned comment added rape iz well funny put dem fucking stupid womenz places innit iz wot deserve jeffpw isaac death lol preceding unsigned comment added']\n",
      "1/1 [==============================] - 0s 38ms/step\n",
      "Comment is Toxic\n",
      "Comment is Insult\n",
      "Toxic level: 2 -> Give Warning.\n"
     ]
    }
   ],
   "source": [
    "demo(comment1, fasttext_model)"
   ]
  },
  {
   "cell_type": "code",
   "execution_count": 66,
   "metadata": {},
   "outputs": [],
   "source": [
    "comment2 = \"AND YOU, YAMLA, CAN BLOW IT OUT OF YOUR BIG FAT ASS!!  DO YOU REALLY THINK THAT I GIVE A FLYING FUCK WHAT YOU DO?  OF COURSE NOT!!!  BAN ME FOR YOU IF YOU MUST!!!!  PROTECT THIS PAGE!!!!!  I WILL NOT BE CENSORED OR SILENCED BY THE LIKES OF YOU, YOU PANSY-ASSED SHIT-EATING MOTHER-FUCKER!!!!!!  I ASSERT MY SECOND AMENDMENT RIGHT OF FREEDOM OF EXPRESSION, AND I FURTHER ASSERT THAT YOU CAN SUCK MY COCK!!!!!!!!\\n\\n MUHEEHAHAHAHAHAHAHAHAHAH!!!!!!!!!!!!!!!!!!!!!!!!!!!!!!!\""
   ]
  },
  {
   "cell_type": "code",
   "execution_count": 81,
   "metadata": {},
   "outputs": [
    {
     "name": "stdout",
     "output_type": "stream",
     "text": [
      "AND YOU, YAMLA, CAN BLOW IT OUT OF YOUR BIG FAT ASS!!  DO YOU REALLY THINK THAT I GIVE A FLYING FUCK WHAT YOU DO?  OF COURSE NOT!!!  BAN ME FOR YOU IF YOU MUST!!!!  PROTECT THIS PAGE!!!!!  I WILL NOT BE CENSORED OR SILENCED BY THE LIKES OF YOU, YOU PANSY-ASSED SHIT-EATING MOTHER-FUCKER!!!!!!  I ASSERT MY SECOND AMENDMENT RIGHT OF FREEDOM OF EXPRESSION, AND I FURTHER ASSERT THAT YOU CAN SUCK MY COCK!!!!!!!!\n",
      "\n",
      " MUHEEHAHAHAHAHAHAHAHAHAH!!!!!!!!!!!!!!!!!!!!!!!!!!!!!!! \n",
      "\n",
      "['yamla blow big fat ass really think give flying fuck course ban must protect page censored silenced likes pansy assed shit eating mother fucker assert second amendment right freedom expression assert suck cock muheehahahahahahahahahah']\n",
      "1/1 [==============================] - 0s 13ms/step\n",
      "Comment is Toxic\n",
      "Toxic level: 1\n"
     ]
    }
   ],
   "source": [
    "demo(comment2, baseline_model)"
   ]
  },
  {
   "cell_type": "code",
   "execution_count": 82,
   "metadata": {},
   "outputs": [
    {
     "name": "stdout",
     "output_type": "stream",
     "text": [
      "AND YOU, YAMLA, CAN BLOW IT OUT OF YOUR BIG FAT ASS!!  DO YOU REALLY THINK THAT I GIVE A FLYING FUCK WHAT YOU DO?  OF COURSE NOT!!!  BAN ME FOR YOU IF YOU MUST!!!!  PROTECT THIS PAGE!!!!!  I WILL NOT BE CENSORED OR SILENCED BY THE LIKES OF YOU, YOU PANSY-ASSED SHIT-EATING MOTHER-FUCKER!!!!!!  I ASSERT MY SECOND AMENDMENT RIGHT OF FREEDOM OF EXPRESSION, AND I FURTHER ASSERT THAT YOU CAN SUCK MY COCK!!!!!!!!\n",
      "\n",
      " MUHEEHAHAHAHAHAHAHAHAHAH!!!!!!!!!!!!!!!!!!!!!!!!!!!!!!! \n",
      "\n",
      "['yamla blow big fat ass really think give flying fuck course ban must protect page censored silenced likes pansy assed shit eating mother fucker assert second amendment right freedom expression assert suck cock muheehahahahahahahahahah']\n",
      "1/1 [==============================] - 0s 23ms/step\n",
      "Comment is Toxic\n",
      "Toxic level: 1\n"
     ]
    }
   ],
   "source": [
    "demo(comment2, fasttext_model)"
   ]
  },
  {
   "cell_type": "code",
   "execution_count": 86,
   "metadata": {},
   "outputs": [],
   "source": [
    "comment3 = \"You are gay or antisemmitian? \\n\\nArchangel WHite Tiger\\n\\nMeow! Greetingshhh!\\n\\nUh, there are two ways, why you do erased my comment about WW2, that holocaust was brutally slaying of Jews and not gays/Gypsys/Slavs/anyone...\\n\\n1 - If you are anti-semitian, than shave your head bald and go to the skinhead meetings!\\n\\n2 - If you doubt words of the Bible, that homosexuality is a deadly sin, make a pentagram tatoo on your forehead go to the satanistic masses with your gay pals!\\n\\n3 - First and last warning, you fucking gay - I won't appreciate if any more nazi shwain would write in my page! I don't wish to talk to you anymore!\\n\\nBeware of the Dark Side!\""
   ]
  },
  {
   "cell_type": "code",
   "execution_count": 89,
   "metadata": {},
   "outputs": [
    {
     "name": "stdout",
     "output_type": "stream",
     "text": [
      "You are gay or antisemmitian? \n",
      "\n",
      "Archangel WHite Tiger\n",
      "\n",
      "Meow! Greetingshhh!\n",
      "\n",
      "Uh, there are two ways, why you do erased my comment about WW2, that holocaust was brutally slaying of Jews and not gays/Gypsys/Slavs/anyone...\n",
      "\n",
      "1 - If you are anti-semitian, than shave your head bald and go to the skinhead meetings!\n",
      "\n",
      "2 - If you doubt words of the Bible, that homosexuality is a deadly sin, make a pentagram tatoo on your forehead go to the satanistic masses with your gay pals!\n",
      "\n",
      "3 - First and last warning, you fucking gay - I won't appreciate if any more nazi shwain would write in my page! I don't wish to talk to you anymore!\n",
      "\n",
      "Beware of the Dark Side! \n",
      "\n",
      "['gay antisemmitian archangel white tiger meow greetingshhh uh two ways erased comment ww holocaust brutally slaying jews gays gypsys slavs anyone anti semitian shave head bald go skinhead meetings doubt words bible homosexuality deadly sin make pentagram tatoo forehead go satanistic masses gay pals first last warning fucking gay wo appreciate nazi shwain would write page wish talk anymore beware dark side']\n",
      "1/1 [==============================] - 0s 13ms/step\n",
      "Comment is Toxic\n",
      "Comment is Insult\n",
      "Toxic level: 2 -> Give Warning.\n"
     ]
    }
   ],
   "source": [
    "demo(comment3, baseline_model)"
   ]
  }
 ],
 "metadata": {
  "kernelspec": {
   "display_name": "Python 3",
   "language": "python",
   "name": "python3"
  },
  "language_info": {
   "codemirror_mode": {
    "name": "ipython",
    "version": 3
   },
   "file_extension": ".py",
   "mimetype": "text/x-python",
   "name": "python",
   "nbconvert_exporter": "python",
   "pygments_lexer": "ipython3",
   "version": "3.7.4"
  }
 },
 "nbformat": 4,
 "nbformat_minor": 2
}
