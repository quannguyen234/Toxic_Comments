{
 "cells": [
  {
   "cell_type": "code",
   "execution_count": 1,
   "metadata": {},
   "outputs": [],
   "source": [
    "#basics\n",
    "import pandas as pd \n",
    "import numpy as np\n",
    "from collections import defaultdict, Counter\n",
    "\n",
    "#misc\n",
    "import gc\n",
    "import time\n",
    "import warnings\n",
    "\n",
    "#viz\n",
    "import matplotlib.pyplot as plt\n",
    "import seaborn as sns\n",
    "\n",
    "#FeatureEngineering\n",
    "from sklearn.feature_extraction.text import TfidfVectorizer, CountVectorizer, HashingVectorizer\n",
    "from sklearn.linear_model import LogisticRegression\n",
    "from sklearn.metrics import roc_auc_score\n",
    "from sklearn.metrics import log_loss\n",
    "from sklearn.model_selection import train_test_split\n",
    "from sklearn.model_selection import cross_val_score\n",
    "from sklearn.metrics import confusion_matrix\n",
    "from sklearn.metrics import classification_report\n",
    "\n",
    "#settings\n",
    "start_time=time.time()\n",
    "warnings.filterwarnings(\"ignore\")\n",
    "\n",
    "\n",
    "%matplotlib inline"
   ]
  },
  {
   "cell_type": "code",
   "execution_count": 2,
   "metadata": {},
   "outputs": [],
   "source": [
    "train_df = pd.read_csv('train_df')\n",
    "test_df = pd.read_csv('test_df')"
   ]
  },
  {
   "cell_type": "code",
   "execution_count": 3,
   "metadata": {},
   "outputs": [],
   "source": [
    "list_classes = ['toxic', 'severe_toxic', 'obscene', 'threat', 'insult', 'identity_hate']"
   ]
  },
  {
   "cell_type": "code",
   "execution_count": 5,
   "metadata": {},
   "outputs": [],
   "source": [
    "# Fill null comment with no commment\n",
    "train_df['comment_text'] = train_df[\"comment_text\"].fillna(\"no commment\").tolist()\n",
    "test_df['comment_text'] = test_df[\"comment_text\"].fillna(\"no commment\").tolist()"
   ]
  },
  {
   "cell_type": "code",
   "execution_count": 6,
   "metadata": {},
   "outputs": [],
   "source": [
    "X_train = train_df['comment_text']\n",
    "y_train = train_df[list_classes]"
   ]
  },
  {
   "cell_type": "code",
   "execution_count": 7,
   "metadata": {},
   "outputs": [],
   "source": [
    "X_test = test_df['comment_text']\n",
    "y_test = test_df[list_classes]"
   ]
  },
  {
   "cell_type": "code",
   "execution_count": 8,
   "metadata": {
    "scrolled": true
   },
   "outputs": [
    {
     "name": "stdout",
     "output_type": "stream",
     "text": [
      "(177351,)\n",
      "(177351, 6)\n",
      "(15952,)\n",
      "(15952, 6)\n"
     ]
    }
   ],
   "source": [
    "print(X_train.shape)\n",
    "print(y_train.shape)\n",
    "print(X_test.shape)\n",
    "print(y_test.shape)"
   ]
  },
  {
   "cell_type": "code",
   "execution_count": 9,
   "metadata": {},
   "outputs": [
    {
     "data": {
      "text/plain": [
       "0                                      ged like penis \n",
       "1     illness nothing time era mental illnesses rea...\n",
       "2                    do not understand fair use exist \n",
       "3     please vandalize page edit cause world war ii...\n",
       "4    bryan holt worst ride operator knott s attenti...\n",
       "Name: comment_text, dtype: object"
      ]
     },
     "execution_count": 9,
     "metadata": {},
     "output_type": "execute_result"
    }
   ],
   "source": [
    "X_train.head()"
   ]
  },
  {
   "cell_type": "code",
   "execution_count": 10,
   "metadata": {},
   "outputs": [
    {
     "data": {
      "text/html": [
       "<div>\n",
       "<style scoped>\n",
       "    .dataframe tbody tr th:only-of-type {\n",
       "        vertical-align: middle;\n",
       "    }\n",
       "\n",
       "    .dataframe tbody tr th {\n",
       "        vertical-align: top;\n",
       "    }\n",
       "\n",
       "    .dataframe thead th {\n",
       "        text-align: right;\n",
       "    }\n",
       "</style>\n",
       "<table border=\"1\" class=\"dataframe\">\n",
       "  <thead>\n",
       "    <tr style=\"text-align: right;\">\n",
       "      <th></th>\n",
       "      <th>toxic</th>\n",
       "      <th>severe_toxic</th>\n",
       "      <th>obscene</th>\n",
       "      <th>threat</th>\n",
       "      <th>insult</th>\n",
       "      <th>identity_hate</th>\n",
       "    </tr>\n",
       "  </thead>\n",
       "  <tbody>\n",
       "    <tr>\n",
       "      <td>0</td>\n",
       "      <td>0</td>\n",
       "      <td>0</td>\n",
       "      <td>1</td>\n",
       "      <td>0</td>\n",
       "      <td>1</td>\n",
       "      <td>0</td>\n",
       "    </tr>\n",
       "    <tr>\n",
       "      <td>1</td>\n",
       "      <td>0</td>\n",
       "      <td>0</td>\n",
       "      <td>0</td>\n",
       "      <td>0</td>\n",
       "      <td>1</td>\n",
       "      <td>1</td>\n",
       "    </tr>\n",
       "    <tr>\n",
       "      <td>2</td>\n",
       "      <td>0</td>\n",
       "      <td>0</td>\n",
       "      <td>0</td>\n",
       "      <td>0</td>\n",
       "      <td>0</td>\n",
       "      <td>0</td>\n",
       "    </tr>\n",
       "    <tr>\n",
       "      <td>3</td>\n",
       "      <td>0</td>\n",
       "      <td>0</td>\n",
       "      <td>0</td>\n",
       "      <td>0</td>\n",
       "      <td>0</td>\n",
       "      <td>0</td>\n",
       "    </tr>\n",
       "    <tr>\n",
       "      <td>4</td>\n",
       "      <td>1</td>\n",
       "      <td>0</td>\n",
       "      <td>0</td>\n",
       "      <td>0</td>\n",
       "      <td>0</td>\n",
       "      <td>0</td>\n",
       "    </tr>\n",
       "  </tbody>\n",
       "</table>\n",
       "</div>"
      ],
      "text/plain": [
       "   toxic  severe_toxic  obscene  threat  insult  identity_hate\n",
       "0      0             0        1       0       1              0\n",
       "1      0             0        0       0       1              1\n",
       "2      0             0        0       0       0              0\n",
       "3      0             0        0       0       0              0\n",
       "4      1             0        0       0       0              0"
      ]
     },
     "execution_count": 10,
     "metadata": {},
     "output_type": "execute_result"
    }
   ],
   "source": [
    "y_train.head()"
   ]
  },
  {
   "cell_type": "markdown",
   "metadata": {},
   "source": [
    "### Unigram"
   ]
  },
  {
   "cell_type": "code",
   "execution_count": 11,
   "metadata": {},
   "outputs": [],
   "source": [
    "# Instantiate the vectorizer\n",
    "tfidf = TfidfVectorizer(min_df=10,  max_features=20000, \n",
    "            strip_accents='unicode', analyzer='word',ngram_range=(1,1),\n",
    "            use_idf=1,smooth_idf=1,sublinear_tf=1,\n",
    "            stop_words = 'english')\n",
    "\n",
    "# fit and transform on it the training features\n",
    "tfidf.fit(X_train)\n",
    "X_train_word_features = tfidf.transform(X_train)\n",
    "\n",
    "#transform the test features to sparse matrix\n",
    "test_features = tfidf.transform(X_test)"
   ]
  },
  {
   "cell_type": "code",
   "execution_count": 12,
   "metadata": {},
   "outputs": [],
   "source": [
    "def show_confusion_matrix(cm_pred):\n",
    "    fig = plt.figure(figsize = (6,4))\n",
    "    sns.set(font_scale=0.8)\n",
    "    title = class_name\n",
    "    plt.title(title, fontsize = 15)\n",
    "    sns.heatmap(cm_pred, cmap=\"Reds\", square=True, fmt='.0f', cbar=False, annot=True)\n",
    "    plt.ylabel('True label')\n",
    "    plt.xlabel('Predicted label')"
   ]
  },
  {
   "cell_type": "code",
   "execution_count": 13,
   "metadata": {},
   "outputs": [],
   "source": [
    "losses = []\n",
    "auc = []"
   ]
  },
  {
   "cell_type": "code",
   "execution_count": 14,
   "metadata": {
    "scrolled": true
   },
   "outputs": [
    {
     "name": "stdout",
     "output_type": "stream",
     "text": [
      "CV Log_loss score for class toxic is -0.10230005679550225\n",
      "CV Accuracy score for class toxic is 0.9676799197861232\n",
      "CV ROC_AUC score 0.959414850503669\n",
      "\n",
      "[[14154   270]\n",
      " [  425  1103]]\n",
      "              precision    recall  f1-score   support\n",
      "\n",
      "           0       0.97      0.98      0.98     14424\n",
      "           1       0.80      0.72      0.76      1528\n",
      "\n",
      "    accuracy                           0.96     15952\n",
      "   macro avg       0.89      0.85      0.87     15952\n",
      "weighted avg       0.95      0.96      0.96     15952\n",
      "\n",
      "None\n",
      "CV Log_loss score for class severe_toxic is -0.03515458703205105\n",
      "CV Accuracy score for class severe_toxic is 0.9869467864316419\n",
      "CV ROC_AUC score 0.9654152301504236\n",
      "\n",
      "[[15720    84]\n",
      " [   90    58]]\n",
      "              precision    recall  f1-score   support\n",
      "\n",
      "           0       0.99      0.99      0.99     15804\n",
      "           1       0.41      0.39      0.40       148\n",
      "\n",
      "    accuracy                           0.99     15952\n",
      "   macro avg       0.70      0.69      0.70     15952\n",
      "weighted avg       0.99      0.99      0.99     15952\n",
      "\n",
      "None\n",
      "CV Log_loss score for class obscene is -0.06344293809428106\n",
      "CV Accuracy score for class obscene is 0.9815901840563745\n",
      "CV ROC_AUC score 0.9710249583128449\n",
      "\n",
      "[[14974   137]\n",
      " [  196   645]]\n",
      "              precision    recall  f1-score   support\n",
      "\n",
      "           0       0.99      0.99      0.99     15111\n",
      "           1       0.82      0.77      0.79       841\n",
      "\n",
      "    accuracy                           0.98     15952\n",
      "   macro avg       0.91      0.88      0.89     15952\n",
      "weighted avg       0.98      0.98      0.98     15952\n",
      "\n",
      "None\n",
      "CV Log_loss score for class threat is -0.009426881846979932\n",
      "CV Accuracy score for class threat is 0.9974964898838449\n",
      "CV ROC_AUC score 0.9609606157822801\n",
      "\n",
      "[[15879    18]\n",
      " [   37    18]]\n",
      "              precision    recall  f1-score   support\n",
      "\n",
      "           0       1.00      1.00      1.00     15897\n",
      "           1       0.50      0.33      0.40        55\n",
      "\n",
      "    accuracy                           1.00     15952\n",
      "   macro avg       0.75      0.66      0.70     15952\n",
      "weighted avg       1.00      1.00      1.00     15952\n",
      "\n",
      "None\n",
      "CV Log_loss score for class insult is -0.09799781497652926\n",
      "CV Accuracy score for class insult is 0.9672570203654415\n",
      "CV ROC_AUC score 0.9519807980454472\n",
      "\n",
      "[[14921   236]\n",
      " [  303   492]]\n",
      "              precision    recall  f1-score   support\n",
      "\n",
      "           0       0.98      0.98      0.98     15157\n",
      "           1       0.68      0.62      0.65       795\n",
      "\n",
      "    accuracy                           0.97     15952\n",
      "   macro avg       0.83      0.80      0.81     15952\n",
      "weighted avg       0.96      0.97      0.97     15952\n",
      "\n",
      "None\n",
      "CV Log_loss score for class identity_hate is -0.025333017873879017\n",
      "CV Accuracy score for class identity_hate is 0.9927375639325341\n",
      "CV ROC_AUC score 0.96168041856348\n",
      "\n",
      "[[15761    55]\n",
      " [   80    56]]\n",
      "              precision    recall  f1-score   support\n",
      "\n",
      "           0       0.99      1.00      1.00     15816\n",
      "           1       0.50      0.41      0.45       136\n",
      "\n",
      "    accuracy                           0.99     15952\n",
      "   macro avg       0.75      0.70      0.72     15952\n",
      "weighted avg       0.99      0.99      0.99     15952\n",
      "\n",
      "None\n",
      "Total average CV Log_loss score is -0.05560921610320377\n",
      "Total average CV ROC_AUC score is 0.9617461452263575\n"
     ]
    },
    {
     "data": {
      "image/png": "[encoded data removed]",
      "text/plain": [
       "<Figure size 432x288 with 1 Axes>"
      ]
     },
     "metadata": {
      "needs_background": "light"
     },
     "output_type": "display_data"
    },
    {
     "data": {
      "image/png": "[encoded data removed]",
      "text/plain": [
       "<Figure size 432x288 with 1 Axes>"
      ]
     },
     "metadata": {},
     "output_type": "display_data"
    },
    {
     "data": {
      "image/png": "[encoded data removed]",
      "text/plain": [
       "<Figure size 432x288 with 1 Axes>"
      ]
     },
     "metadata": {},
     "output_type": "display_data"
    },
    {
     "data": {
      "image/png": "[encoded data removed]",
      "text/plain": [
       "<Figure size 432x288 with 1 Axes>"
      ]
     },
     "metadata": {},
     "output_type": "display_data"
    },
    {
     "data": {
      "image/png": "[encoded data removed]",
      "text/plain": [
       "<Figure size 432x288 with 1 Axes>"
      ]
     },
     "metadata": {},
     "output_type": "display_data"
    },
    {
     "data": {
      "image/png": "[encoded data removed]",
      "text/plain": [
       "<Figure size 432x288 with 1 Axes>"
      ]
     },
     "metadata": {},
     "output_type": "display_data"
    }
   ],
   "source": [
    "for class_name in list_classes:\n",
    "    #call the labels one column at a time so we can run the classifier on them\n",
    "    train_target = y_train[class_name]\n",
    "    test_target = y_test[class_name]\n",
    "    classifier = LogisticRegression(solver='sag', C=10)\n",
    "    \n",
    "    \n",
    "    cv_loss = np.mean(cross_val_score(classifier, X_train_word_features, train_target, cv=5, scoring='neg_log_loss'))\n",
    "    losses.append(cv_loss)\n",
    "    print(f'CV Log_loss score for class {class_name} is {cv_loss}')\n",
    "    \n",
    "    #get model accuracy\n",
    "    cv_score = np.mean(cross_val_score(classifier, X_train_word_features, train_target, cv=5, scoring='accuracy'))\n",
    "    print(f'CV Accuracy score for class {class_name} is {cv_score}')\n",
    "    \n",
    "    classifier.fit(X_train_word_features, train_target)\n",
    "    y_pred = classifier.predict(test_features)\n",
    "    y_pred_prob = classifier.predict_proba(test_features)[:, 1]\n",
    "    auc_score = roc_auc_score(test_target, y_pred_prob)\n",
    "    auc.append(auc_score)\n",
    "    print(\"CV ROC_AUC score {}\\n\".format(auc_score))\n",
    "    \n",
    "    print(confusion_matrix(test_target, y_pred))\n",
    "    print(classification_report(test_target, y_pred))\n",
    "    print(show_confusion_matrix(confusion_matrix(test_target, y_pred)))\n",
    "\n",
    "print(f'Total average CV Log_loss score is {np.mean(losses)}')\n",
    "print(f'Total average CV ROC_AUC score is {np.mean(auc)}')"
   ]
  },
  {
   "cell_type": "markdown",
   "metadata": {},
   "source": [
    "### Bigram"
   ]
  },
  {
   "cell_type": "code",
   "execution_count": 15,
   "metadata": {},
   "outputs": [],
   "source": [
    "bi_tfidf = TfidfVectorizer(min_df=10,  max_features=20000, \n",
    "            strip_accents='unicode', analyzer='word',ngram_range=(1,2),\n",
    "            use_idf=1,smooth_idf=1,sublinear_tf=1,\n",
    "            stop_words = 'english')\n",
    "\n",
    "\n",
    "# fit and transform on it the training features\n",
    "bi_tfidf.fit(X_train)\n",
    "bi_X_train_word_features = bi_tfidf.transform(X_train)\n",
    "\n",
    "#transform the test features to sparse matrix\n",
    "bi_test_features = bi_tfidf.transform(X_test)"
   ]
  },
  {
   "cell_type": "code",
   "execution_count": 16,
   "metadata": {},
   "outputs": [],
   "source": [
    "bi_losses = []\n",
    "bi_auc = []"
   ]
  },
  {
   "cell_type": "code",
   "execution_count": 17,
   "metadata": {
    "scrolled": false
   },
   "outputs": [
    {
     "name": "stdout",
     "output_type": "stream",
     "text": [
      "CV Log_loss score for class toxic is -0.09796758206441471\n",
      "CV Accuracy score for class toxic is 0.9696872380020617\n",
      "CV ROC_AUC score 0.9621475569368099\n",
      "\n",
      "[[14177   247]\n",
      " [  420  1108]]\n",
      "None\n",
      "              precision    recall  f1-score   support\n",
      "\n",
      "           0       0.97      0.98      0.98     14424\n",
      "           1       0.82      0.73      0.77      1528\n",
      "\n",
      "    accuracy                           0.96     15952\n",
      "   macro avg       0.89      0.85      0.87     15952\n",
      "weighted avg       0.96      0.96      0.96     15952\n",
      "\n",
      "CV Log_loss score for class severe_toxic is -0.031128598487075675\n",
      "CV Accuracy score for class severe_toxic is 0.9879955540025602\n",
      "CV ROC_AUC score 0.967907970612982\n",
      "\n",
      "[[15728    76]\n",
      " [   95    53]]\n",
      "None\n",
      "              precision    recall  f1-score   support\n",
      "\n",
      "           0       0.99      1.00      0.99     15804\n",
      "           1       0.41      0.36      0.38       148\n",
      "\n",
      "    accuracy                           0.99     15952\n",
      "   macro avg       0.70      0.68      0.69     15952\n",
      "weighted avg       0.99      0.99      0.99     15952\n",
      "\n",
      "CV Log_loss score for class obscene is -0.05925244748584135\n",
      "CV Accuracy score for class obscene is 0.9829603485614431\n",
      "CV ROC_AUC score 0.9748048350254097\n",
      "\n",
      "[[14983   128]\n",
      " [  198   643]]\n",
      "None\n",
      "              precision    recall  f1-score   support\n",
      "\n",
      "           0       0.99      0.99      0.99     15111\n",
      "           1       0.83      0.76      0.80       841\n",
      "\n",
      "    accuracy                           0.98     15952\n",
      "   macro avg       0.91      0.88      0.89     15952\n",
      "weighted avg       0.98      0.98      0.98     15952\n",
      "\n",
      "CV Log_loss score for class threat is -0.0073167830908811154\n",
      "CV Accuracy score for class threat is 0.9985001498661091\n",
      "CV ROC_AUC score 0.9721954399629433\n",
      "\n",
      "[[15884    13]\n",
      " [   39    16]]\n",
      "None\n",
      "              precision    recall  f1-score   support\n",
      "\n",
      "           0       1.00      1.00      1.00     15897\n",
      "           1       0.55      0.29      0.38        55\n",
      "\n",
      "    accuracy                           1.00     15952\n",
      "   macro avg       0.77      0.65      0.69     15952\n",
      "weighted avg       1.00      1.00      1.00     15952\n",
      "\n",
      "CV Log_loss score for class insult is -0.08873360625926739\n",
      "CV Accuracy score for class insult is 0.9696139243804807\n",
      "CV ROC_AUC score 0.95312484050585\n",
      "\n",
      "[[14913   244]\n",
      " [  303   492]]\n",
      "None\n",
      "              precision    recall  f1-score   support\n",
      "\n",
      "           0       0.98      0.98      0.98     15157\n",
      "           1       0.67      0.62      0.64       795\n",
      "\n",
      "    accuracy                           0.97     15952\n",
      "   macro avg       0.82      0.80      0.81     15952\n",
      "weighted avg       0.96      0.97      0.97     15952\n",
      "\n",
      "CV Log_loss score for class identity_hate is -0.022218685669271446\n",
      "CV Accuracy score for class identity_hate is 0.9938258040214827\n",
      "CV ROC_AUC score 0.9654340634205124\n",
      "\n",
      "[[15767    49]\n",
      " [   86    50]]\n",
      "None\n",
      "              precision    recall  f1-score   support\n",
      "\n",
      "           0       0.99      1.00      1.00     15816\n",
      "           1       0.51      0.37      0.43       136\n",
      "\n",
      "    accuracy                           0.99     15952\n",
      "   macro avg       0.75      0.68      0.71     15952\n",
      "weighted avg       0.99      0.99      0.99     15952\n",
      "\n",
      "Total average CV Log_loss score is -0.051102950509458615\n",
      "Total average CV ROC_AUC score is 0.9659357844107511\n"
     ]
    },
    {
     "data": {
      "image/png": "[encoded data removed]",
      "text/plain": [
       "<Figure size 432x288 with 1 Axes>"
      ]
     },
     "metadata": {},
     "output_type": "display_data"
    },
    {
     "data": {
      "image/png": "[encoded data removed]",
      "text/plain": [
       "<Figure size 432x288 with 1 Axes>"
      ]
     },
     "metadata": {},
     "output_type": "display_data"
    },
    {
     "data": {
      "image/png": "[encoded data removed]",
      "text/plain": [
       "<Figure size 432x288 with 1 Axes>"
      ]
     },
     "metadata": {},
     "output_type": "display_data"
    },
    {
     "data": {
      "image/png": "[encoded data removed]",
      "text/plain": [
       "<Figure size 432x288 with 1 Axes>"
      ]
     },
     "metadata": {},
     "output_type": "display_data"
    },
    {
     "data": {
      "image/png": "[encoded data removed]",
      "text/plain": [
       "<Figure size 432x288 with 1 Axes>"
      ]
     },
     "metadata": {},
     "output_type": "display_data"
    },
    {
     "data": {
      "image/png": "[encoded data removed]",
      "text/plain": [
       "<Figure size 432x288 with 1 Axes>"
      ]
     },
     "metadata": {},
     "output_type": "display_data"
    }
   ],
   "source": [
    "for class_name in list_classes:\n",
    "    #call the labels one column at a time so we can run the classifier on them\n",
    "    train_target = y_train[class_name]\n",
    "    test_target = y_test[class_name]\n",
    "    classifier = LogisticRegression(solver='sag', C=10)\n",
    "\n",
    "    cv_loss = np.mean(cross_val_score(classifier, bi_X_train_word_features, train_target, cv=5, scoring='neg_log_loss'))\n",
    "    bi_losses.append(cv_loss)\n",
    "    print(f'CV Log_loss score for class {class_name} is {cv_loss}')\n",
    "\n",
    "    cv_score = np.mean(cross_val_score(classifier, bi_X_train_word_features, train_target, cv=5, scoring='accuracy'))\n",
    "    print(f'CV Accuracy score for class {class_name} is {cv_score}')\n",
    "    \n",
    "    classifier.fit(bi_X_train_word_features, train_target)\n",
    "    y_pred = classifier.predict(bi_test_features)\n",
    "    y_pred_prob = classifier.predict_proba(bi_test_features)[:, 1]\n",
    "    auc_score = roc_auc_score(test_target, y_pred_prob)\n",
    "    bi_auc.append(auc_score)\n",
    "    print(f\"CV ROC_AUC score {auc_score}\\n\")\n",
    "    \n",
    "    print(confusion_matrix(test_target, y_pred))\n",
    "    print(show_confusion_matrix(confusion_matrix(test_target, y_pred)))\n",
    "    print(classification_report(test_target, y_pred))\n",
    "\n",
    "print(f'Total average CV Log_loss score is {np.mean(bi_losses)}')\n",
    "print(f'Total average CV ROC_AUC score is {np.mean(bi_auc)}')"
   ]
  },
  {
   "cell_type": "markdown",
   "metadata": {},
   "source": [
    "##### Results for Unigram and Bigram are close."
   ]
  }
 ],
 "metadata": {
  "kernelspec": {
   "display_name": "Python 3",
   "language": "python",
   "name": "python3"
  },
  "language_info": {
   "codemirror_mode": {
    "name": "ipython",
    "version": 3
   },
   "file_extension": ".py",
   "mimetype": "text/x-python",
   "name": "python",
   "nbconvert_exporter": "python",
   "pygments_lexer": "ipython3",
   "version": "3.7.4"
  }
 },
 "nbformat": 4,
 "nbformat_minor": 2
}
